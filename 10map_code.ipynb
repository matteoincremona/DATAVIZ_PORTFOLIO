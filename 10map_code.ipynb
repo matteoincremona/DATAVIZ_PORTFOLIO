{
 "cells": [
  {
   "cell_type": "code",
   "execution_count": 1,
   "id": "03d042e8-1787-4b26-a112-5018cc5851e8",
   "metadata": {
    "tags": []
   },
   "outputs": [],
   "source": [
    "import json\n",
    "import pandas as pd\n",
    "import plotly.express as px\n",
    "import numpy as np"
   ]
  },
  {
   "cell_type": "code",
   "execution_count": 2,
   "id": "b183ff31-2d40-457f-bbc6-632095fd48f1",
   "metadata": {
    "tags": []
   },
   "outputs": [],
   "source": [
    "import plotly.io as pio\n",
    "pio.renderers.default = 'chrome'"
   ]
  },
  {
   "cell_type": "code",
   "execution_count": 3,
   "id": "a6e6c3ce-f267-4635-a3a2-6ccbdec44601",
   "metadata": {
    "tags": []
   },
   "outputs": [],
   "source": [
    "india_states = json.load(open('states_india.geojson', 'r'))"
   ]
  },
  {
   "cell_type": "code",
   "execution_count": 4,
   "id": "9eccb7dc-2a02-4df7-ad74-a21db8f5604a",
   "metadata": {
    "tags": []
   },
   "outputs": [],
   "source": [
    "state_id_map = {}\n",
    "\n",
    "for feature in india_states['features']:\n",
    "    feature['id'] = feature['properties']['state_code']\n",
    "    state_id_map[feature['properties']['st_nm']] = feature['id']"
   ]
  },
  {
   "cell_type": "code",
   "execution_count": 5,
   "id": "a25863ec-e114-41ae-bcd8-a2249807c12e",
   "metadata": {
    "tags": []
   },
   "outputs": [],
   "source": [
    "#india_states['features'][0] # First state\n",
    "#india_states['features'][1] # Second state..."
   ]
  },
  {
   "cell_type": "code",
   "execution_count": 6,
   "id": "d977e8cc-844e-4523-8b4c-ed893ae61d14",
   "metadata": {
    "tags": []
   },
   "outputs": [],
   "source": [
    "df = pd.read_csv('india_census.csv')\n",
    "df['Density'] = df['Density[a]'].apply(lambda x: int(x.split('/')[0].replace(',','')))\n",
    "df['id'] = df['State or union territory'].apply(lambda x: state_id_map[x])"
   ]
  },
  {
   "cell_type": "code",
   "execution_count": 7,
   "id": "28f32326-bf8d-498f-9a5c-17b079af80e3",
   "metadata": {
    "tags": []
   },
   "outputs": [],
   "source": [
    "df['Density_Scale'] = np.log10(df['Density'])"
   ]
  },
  {
   "cell_type": "code",
   "execution_count": 8,
   "id": "e72f6082-ab09-46b0-bea0-f64ff5fd5b46",
   "metadata": {
    "tags": []
   },
   "outputs": [],
   "source": [
    "fig = px.choropleth(df,\n",
    "                    locations = 'id',\n",
    "                    geojson = india_states,\n",
    "                    color = 'Density_Scale',\n",
    "                    hover_name = 'State or union territory',\n",
    "                    hover_data = ['Density'],\n",
    "                    title = 'India Population Density 2011')\n",
    "fig.update_geos(fitbounds = 'locations', visible = False)\n",
    "fig.show()"
   ]
  },
  {
   "cell_type": "code",
   "execution_count": 36,
   "id": "b43fc959-2bf3-46cc-a429-4d3d55b6d20e",
   "metadata": {
    "tags": []
   },
   "outputs": [],
   "source": [
    "px.choropleth_mapbox(df,\n",
    "                    locations = 'id',\n",
    "                    geojson = india_states,\n",
    "                    color = 'Density_Scale',\n",
    "                    hover_name = 'State or union territory',\n",
    "                    hover_data = ['Density'],\n",
    "                    mapbox_style = 'carto-positron',\n",
    "                    center = {'lat': 24, 'lon': 78},\n",
    "                    zoom = 3,\n",
    "                    opacity = 0.9,\n",
    "                    title = 'India Population Density 2011')"
   ]
  },
  {
   "cell_type": "code",
   "execution_count": null,
   "id": "b9e51feb-598f-4349-ae6b-32f09e2be6c8",
   "metadata": {},
   "outputs": [],
   "source": []
  }
 ],
 "metadata": {
  "kernelspec": {
   "display_name": "Python 3 (ipykernel)",
   "language": "python",
   "name": "python3"
  },
  "language_info": {
   "codemirror_mode": {
    "name": "ipython",
    "version": 3
   },
   "file_extension": ".py",
   "mimetype": "text/x-python",
   "name": "python",
   "nbconvert_exporter": "python",
   "pygments_lexer": "ipython3",
   "version": "3.11.4"
  }
 },
 "nbformat": 4,
 "nbformat_minor": 5
}
